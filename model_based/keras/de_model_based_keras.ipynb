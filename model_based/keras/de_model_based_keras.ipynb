{
 "cells": [
  {
   "attachments": {},
   "cell_type": "markdown",
   "metadata": {},
   "source": [
    "### - LSTM based approach from Keras"
   ]
  },
  {
   "cell_type": "code",
   "execution_count": 30,
   "metadata": {},
   "outputs": [],
   "source": [
    "import csv\n",
    "import pandas as pd\n",
    "import json\n",
    "from tensorflow.keras import Model, Input\n",
    "from tensorflow.keras.layers import LSTM, Embedding, Dense\n",
    "from tensorflow.keras.layers import InputLayer, TimeDistributed, SpatialDropout1D, Bidirectional\n",
    "from tensorflow import keras\n",
    "from tensorflow.keras.models import Sequential\n",
    "from tensorflow.keras.preprocessing.sequence import pad_sequences\n",
    "import matplotlib.pyplot as plt\n",
    "import numpy as np\n",
    "import tensorflow as tf\n",
    "import plotly.express as px\n",
    "from sklearn.model_selection import train_test_split\n",
    "import tqdm\n",
    "from tensorflow.keras.callbacks import ModelCheckpoint, EarlyStopping\n",
    "from livelossplot.tf_keras import PlotLossesCallback\n",
    "import datetime\n",
    "import os"
   ]
  },
  {
   "cell_type": "code",
   "execution_count": 31,
   "metadata": {},
   "outputs": [],
   "source": [
    "with open('../annotatedData/annotations_all.json', 'r') as f:\n",
    "    data = json.load(f)"
   ]
  },
  {
   "attachments": {},
   "cell_type": "markdown",
   "metadata": {},
   "source": [
    "### - Preprocessing the annotated Data into csv format for train the model"
   ]
  },
  {
   "cell_type": "code",
   "execution_count": 32,
   "metadata": {},
   "outputs": [],
   "source": [
    "def extract_entities(sentence, entities):\n",
    "    entity_list = []\n",
    "    words = [buchstabe for buchstabe in sentence]\n",
    "    for entity in entities:\n",
    "        start = entity[0]\n",
    "        end = entity[1]\n",
    "        entity_type = entity[2]\n",
    "        word = ''.join(words[start:end])\n",
    "        entity_list.append((start, word, entity_type))\n",
    "    return entity_list\n",
    "\n",
    "with open('output.csv', mode='w', newline='', encoding='utf-8') as csv_file:\n",
    "    writer = csv.writer(csv_file)\n",
    "    writer.writerow(['Index', 'Word', 'EntityType'])\n",
    "    \n",
    "    for index, item in enumerate(data['annotations'], start=1):\n",
    "        if item is None:\n",
    "            continue\n",
    "        sentence = item[0][:]\n",
    "        entities = item[1]['entities']\n",
    "        entity_list = extract_entities(sentence, entities)\n",
    "\n",
    "        current_index = 0\n",
    "        for entry in entity_list:\n",
    "            start, word, entity_type = entry\n",
    "            while current_index < start:\n",
    "                char = sentence[current_index]\n",
    "                writer.writerow([index, char, 'o'])\n",
    "                current_index += 1\n",
    "\n",
    "            writer.writerow([index, word, entity_type])\n",
    "            current_index += len(word)\n",
    "\n",
    "        while current_index < len(sentence):\n",
    "            char = sentence[current_index]\n",
    "            writer.writerow([index, char, 'o'])\n",
    "            current_index += 1"
   ]
  },
  {
   "cell_type": "code",
   "execution_count": 33,
   "metadata": {},
   "outputs": [],
   "source": [
    "def process_csv_file(input_file, output_file):\n",
    "    with open(input_file, mode='r', newline='', encoding='utf-8') as csv_file:\n",
    "        reader = csv.reader(csv_file)\n",
    "        data = list(reader)\n",
    "\n",
    "    modified_data = []\n",
    "    current_row = 0\n",
    "\n",
    "    while current_row < len(data):\n",
    "        index, word, entity_type = data[current_row]\n",
    "\n",
    "        if len(word) == 1 and word.strip() == \"\":\n",
    "            # Remove the entire row if the word contains only a single space\n",
    "            current_row += 1\n",
    "        else:\n",
    "            if len(word) == 1 and not word.strip() == \"\":\n",
    "                # If the word contains a single non-empty character,\n",
    "                # concatenate it with the following rows until an empty word is encountered\n",
    "                merged_word = word\n",
    "                next_row = current_row + 1\n",
    "\n",
    "                while next_row < len(data):\n",
    "                    next_word = data[next_row][1]\n",
    "                    if next_word.strip() == \"\":\n",
    "                        break\n",
    "\n",
    "                    merged_word += next_word\n",
    "                    next_row += 1\n",
    "\n",
    "                modified_data.append([index, merged_word, entity_type])\n",
    "                current_row = next_row\n",
    "            else:\n",
    "                modified_data.append([index, word, entity_type])\n",
    "                current_row += 1\n",
    "\n",
    "    with open(output_file, mode='w', newline='', encoding='utf-8') as csv_file:\n",
    "        writer = csv.writer(csv_file)\n",
    "        writer.writerows(modified_data)\n",
    "\n",
    "input_file = 'output.csv'\n",
    "output_file = 'output_modified1.csv'\n",
    "process_csv_file(input_file, output_file)"
   ]
  },
  {
   "cell_type": "code",
   "execution_count": 34,
   "metadata": {},
   "outputs": [],
   "source": [
    "def process_csv_file(input_file, output_file):\n",
    "    with open(input_file, mode='r', newline='', encoding='utf-8') as csv_file:\n",
    "        reader = csv.reader(csv_file)\n",
    "        data = list(reader)\n",
    "\n",
    "    modified_data = []\n",
    "    for index, word, entity_type in data:\n",
    "        if word.endswith('.'):\n",
    "            modified_data.append([index, word[:-1], entity_type])\n",
    "            modified_data.append([index, '.', 'o'])\n",
    "        else:\n",
    "            modified_data.append([index, word, entity_type])\n",
    "\n",
    "    with open(output_file, mode='w', newline='', encoding='utf-8') as csv_file:\n",
    "        writer = csv.writer(csv_file)\n",
    "        writer.writerows(modified_data)\n",
    "\n",
    "input_file = 'output_modified1.csv'\n",
    "output_file = 'output_modified2.csv'\n",
    "process_csv_file(input_file, output_file)"
   ]
  },
  {
   "attachments": {},
   "cell_type": "markdown",
   "metadata": {},
   "source": [
    "### Main Part"
   ]
  },
  {
   "cell_type": "code",
   "execution_count": 35,
   "metadata": {},
   "outputs": [],
   "source": [
    "np.random.seed(0)\n",
    "plt.style.use(\"ggplot\")"
   ]
  },
  {
   "cell_type": "code",
   "execution_count": 36,
   "metadata": {},
   "outputs": [
    {
     "data": {
      "text/html": [
       "<div>\n",
       "<style scoped>\n",
       "    .dataframe tbody tr th:only-of-type {\n",
       "        vertical-align: middle;\n",
       "    }\n",
       "\n",
       "    .dataframe tbody tr th {\n",
       "        vertical-align: top;\n",
       "    }\n",
       "\n",
       "    .dataframe thead th {\n",
       "        text-align: right;\n",
       "    }\n",
       "</style>\n",
       "<table border=\"1\" class=\"dataframe\">\n",
       "  <thead>\n",
       "    <tr style=\"text-align: right;\">\n",
       "      <th></th>\n",
       "      <th>Index</th>\n",
       "      <th>Word</th>\n",
       "      <th>EntityType</th>\n",
       "    </tr>\n",
       "  </thead>\n",
       "  <tbody>\n",
       "    <tr>\n",
       "      <th>0</th>\n",
       "      <td>1</td>\n",
       "      <td>Ein</td>\n",
       "      <td>KARDINALITÄT</td>\n",
       "    </tr>\n",
       "    <tr>\n",
       "      <th>1</th>\n",
       "      <td>1</td>\n",
       "      <td>Geschäft</td>\n",
       "      <td>ENTITÄT</td>\n",
       "    </tr>\n",
       "    <tr>\n",
       "      <th>2</th>\n",
       "      <td>1</td>\n",
       "      <td>hat</td>\n",
       "      <td>BEZIEHUNG</td>\n",
       "    </tr>\n",
       "    <tr>\n",
       "      <th>3</th>\n",
       "      <td>1</td>\n",
       "      <td>viele</td>\n",
       "      <td>KARDINALITÄT</td>\n",
       "    </tr>\n",
       "    <tr>\n",
       "      <th>4</th>\n",
       "      <td>1</td>\n",
       "      <td>Filialen</td>\n",
       "      <td>ENTITÄT</td>\n",
       "    </tr>\n",
       "    <tr>\n",
       "      <th>5</th>\n",
       "      <td>1</td>\n",
       "      <td>Filialen</td>\n",
       "      <td>o</td>\n",
       "    </tr>\n",
       "    <tr>\n",
       "      <th>6</th>\n",
       "      <td>1</td>\n",
       "      <td>.</td>\n",
       "      <td>o</td>\n",
       "    </tr>\n",
       "    <tr>\n",
       "      <th>7</th>\n",
       "      <td>2</td>\n",
       "      <td>Jede</td>\n",
       "      <td>KARDINALITÄT</td>\n",
       "    </tr>\n",
       "    <tr>\n",
       "      <th>8</th>\n",
       "      <td>2</td>\n",
       "      <td>Filiale</td>\n",
       "      <td>ENTITÄT</td>\n",
       "    </tr>\n",
       "    <tr>\n",
       "      <th>9</th>\n",
       "      <td>2</td>\n",
       "      <td>darf</td>\n",
       "      <td>o</td>\n",
       "    </tr>\n",
       "    <tr>\n",
       "      <th>10</th>\n",
       "      <td>2</td>\n",
       "      <td>von</td>\n",
       "      <td>o</td>\n",
       "    </tr>\n",
       "    <tr>\n",
       "      <th>11</th>\n",
       "      <td>2</td>\n",
       "      <td>höchstens einem</td>\n",
       "      <td>KARDINALITÄT</td>\n",
       "    </tr>\n",
       "    <tr>\n",
       "      <th>12</th>\n",
       "      <td>2</td>\n",
       "      <td>Filialleiter</td>\n",
       "      <td>ENTITÄT</td>\n",
       "    </tr>\n",
       "    <tr>\n",
       "      <th>13</th>\n",
       "      <td>2</td>\n",
       "      <td>geführt</td>\n",
       "      <td>BEZIEHUNG</td>\n",
       "    </tr>\n",
       "    <tr>\n",
       "      <th>14</th>\n",
       "      <td>2</td>\n",
       "      <td>werden</td>\n",
       "      <td>o</td>\n",
       "    </tr>\n",
       "    <tr>\n",
       "      <th>15</th>\n",
       "      <td>2</td>\n",
       "      <td>.</td>\n",
       "      <td>o</td>\n",
       "    </tr>\n",
       "    <tr>\n",
       "      <th>16</th>\n",
       "      <td>3</td>\n",
       "      <td>Ein</td>\n",
       "      <td>KARDINALITÄT</td>\n",
       "    </tr>\n",
       "    <tr>\n",
       "      <th>17</th>\n",
       "      <td>3</td>\n",
       "      <td>Filialleiter</td>\n",
       "      <td>ENTITÄT</td>\n",
       "    </tr>\n",
       "    <tr>\n",
       "      <th>18</th>\n",
       "      <td>3</td>\n",
       "      <td>darf</td>\n",
       "      <td>o</td>\n",
       "    </tr>\n",
       "    <tr>\n",
       "      <th>19</th>\n",
       "      <td>3</td>\n",
       "      <td>höchstens zwei</td>\n",
       "      <td>KARDINALITÄT</td>\n",
       "    </tr>\n",
       "  </tbody>\n",
       "</table>\n",
       "</div>"
      ],
      "text/plain": [
       "    Index             Word    EntityType\n",
       "0       1              Ein  KARDINALITÄT\n",
       "1       1         Geschäft       ENTITÄT\n",
       "2       1              hat     BEZIEHUNG\n",
       "3       1            viele  KARDINALITÄT\n",
       "4       1         Filialen       ENTITÄT\n",
       "5       1         Filialen             o\n",
       "6       1                .             o\n",
       "7       2             Jede  KARDINALITÄT\n",
       "8       2          Filiale       ENTITÄT\n",
       "9       2             darf             o\n",
       "10      2              von             o\n",
       "11      2  höchstens einem  KARDINALITÄT\n",
       "12      2     Filialleiter       ENTITÄT\n",
       "13      2          geführt     BEZIEHUNG\n",
       "14      2           werden             o\n",
       "15      2                .             o\n",
       "16      3              Ein  KARDINALITÄT\n",
       "17      3     Filialleiter       ENTITÄT\n",
       "18      3             darf             o\n",
       "19      3   höchstens zwei  KARDINALITÄT"
      ]
     },
     "execution_count": 36,
     "metadata": {},
     "output_type": "execute_result"
    }
   ],
   "source": [
    "data = pd.read_csv(\"output_modified2.csv\", encoding=\"UTF-8\")\n",
    "\n",
    "data = data.fillna(method=\"ffill\")\n",
    "data.head(20)"
   ]
  },
  {
   "cell_type": "code",
   "execution_count": 37,
   "metadata": {},
   "outputs": [
    {
     "name": "stdout",
     "output_type": "stream",
     "text": [
      "Unique words in corpus: 475\n",
      "Unique tags in corpus: 8\n"
     ]
    }
   ],
   "source": [
    "print(\"Unique words in corpus:\", data['Word'].nunique())\n",
    "print(\"Unique tags in corpus:\", data['EntityType'].nunique())"
   ]
  },
  {
   "cell_type": "code",
   "execution_count": 38,
   "metadata": {},
   "outputs": [],
   "source": [
    "words = list(set(data[\"Word\"].values))\n",
    "words.append(\"ENDPAD\")\n",
    "num_words = len(words)\n",
    "\n",
    "tags = list(set(data[\"EntityType\"].values))\n",
    "num_tags = len(tags)"
   ]
  },
  {
   "cell_type": "code",
   "execution_count": 39,
   "metadata": {},
   "outputs": [
    {
     "data": {
      "application/vnd.plotly.v1+json": {
       "config": {
        "plotlyServerURL": "https://plot.ly"
       },
       "data": [
        {
         "alignmentgroup": "True",
         "bingroup": "x",
         "hovertemplate": "EntityType=%{x}<br>count=%{y}<extra></extra>",
         "legendgroup": "KARDINALITÄT",
         "marker": {
          "color": "#636efa",
          "pattern": {
           "shape": ""
          }
         },
         "name": "KARDINALITÄT",
         "offsetgroup": "KARDINALITÄT",
         "orientation": "v",
         "showlegend": true,
         "type": "histogram",
         "x": [
          "KARDINALITÄT",
          "KARDINALITÄT",
          "KARDINALITÄT",
          "KARDINALITÄT",
          "KARDINALITÄT",
          "KARDINALITÄT",
          "KARDINALITÄT",
          "KARDINALITÄT",
          "KARDINALITÄT",
          "KARDINALITÄT",
          "KARDINALITÄT",
          "KARDINALITÄT",
          "KARDINALITÄT",
          "KARDINALITÄT",
          "KARDINALITÄT",
          "KARDINALITÄT",
          "KARDINALITÄT",
          "KARDINALITÄT",
          "KARDINALITÄT",
          "KARDINALITÄT",
          "KARDINALITÄT",
          "KARDINALITÄT",
          "KARDINALITÄT",
          "KARDINALITÄT",
          "KARDINALITÄT",
          "KARDINALITÄT",
          "KARDINALITÄT",
          "KARDINALITÄT",
          "KARDINALITÄT",
          "KARDINALITÄT",
          "KARDINALITÄT",
          "KARDINALITÄT",
          "KARDINALITÄT",
          "KARDINALITÄT",
          "KARDINALITÄT",
          "KARDINALITÄT",
          "KARDINALITÄT",
          "KARDINALITÄT",
          "KARDINALITÄT",
          "KARDINALITÄT",
          "KARDINALITÄT",
          "KARDINALITÄT",
          "KARDINALITÄT",
          "KARDINALITÄT",
          "KARDINALITÄT",
          "KARDINALITÄT",
          "KARDINALITÄT",
          "KARDINALITÄT",
          "KARDINALITÄT",
          "KARDINALITÄT",
          "KARDINALITÄT",
          "KARDINALITÄT",
          "KARDINALITÄT",
          "KARDINALITÄT",
          "KARDINALITÄT",
          "KARDINALITÄT",
          "KARDINALITÄT",
          "KARDINALITÄT",
          "KARDINALITÄT",
          "KARDINALITÄT",
          "KARDINALITÄT",
          "KARDINALITÄT",
          "KARDINALITÄT",
          "KARDINALITÄT",
          "KARDINALITÄT",
          "KARDINALITÄT",
          "KARDINALITÄT",
          "KARDINALITÄT",
          "KARDINALITÄT"
         ],
         "xaxis": "x",
         "yaxis": "y"
        },
        {
         "alignmentgroup": "True",
         "bingroup": "x",
         "hovertemplate": "EntityType=%{x}<br>count=%{y}<extra></extra>",
         "legendgroup": "ENTITÄT",
         "marker": {
          "color": "#EF553B",
          "pattern": {
           "shape": ""
          }
         },
         "name": "ENTITÄT",
         "offsetgroup": "ENTITÄT",
         "orientation": "v",
         "showlegend": true,
         "type": "histogram",
         "x": [
          "ENTITÄT",
          "ENTITÄT",
          "ENTITÄT",
          "ENTITÄT",
          "ENTITÄT",
          "ENTITÄT",
          "ENTITÄT",
          "ENTITÄT",
          "ENTITÄT",
          "ENTITÄT",
          "ENTITÄT",
          "ENTITÄT",
          "ENTITÄT",
          "ENTITÄT",
          "ENTITÄT",
          "ENTITÄT",
          "ENTITÄT",
          "ENTITÄT",
          "ENTITÄT",
          "ENTITÄT",
          "ENTITÄT",
          "ENTITÄT",
          "ENTITÄT",
          "ENTITÄT",
          "ENTITÄT",
          "ENTITÄT",
          "ENTITÄT",
          "ENTITÄT",
          "ENTITÄT",
          "ENTITÄT",
          "ENTITÄT",
          "ENTITÄT",
          "ENTITÄT",
          "ENTITÄT",
          "ENTITÄT",
          "ENTITÄT",
          "ENTITÄT",
          "ENTITÄT",
          "ENTITÄT",
          "ENTITÄT",
          "ENTITÄT",
          "ENTITÄT",
          "ENTITÄT",
          "ENTITÄT",
          "ENTITÄT",
          "ENTITÄT",
          "ENTITÄT",
          "ENTITÄT",
          "ENTITÄT",
          "ENTITÄT",
          "ENTITÄT",
          "ENTITÄT",
          "ENTITÄT",
          "ENTITÄT",
          "ENTITÄT",
          "ENTITÄT",
          "ENTITÄT",
          "ENTITÄT",
          "ENTITÄT",
          "ENTITÄT",
          "ENTITÄT",
          "ENTITÄT",
          "ENTITÄT",
          "ENTITÄT",
          "ENTITÄT",
          "ENTITÄT",
          "ENTITÄT",
          "ENTITÄT",
          "ENTITÄT",
          "ENTITÄT",
          "ENTITÄT",
          "ENTITÄT",
          "ENTITÄT",
          "ENTITÄT",
          "ENTITÄT",
          "ENTITÄT",
          "ENTITÄT",
          "ENTITÄT",
          "ENTITÄT",
          "ENTITÄT",
          "ENTITÄT",
          "ENTITÄT",
          "ENTITÄT",
          "ENTITÄT",
          "ENTITÄT",
          "ENTITÄT",
          "ENTITÄT",
          "ENTITÄT",
          "ENTITÄT",
          "ENTITÄT",
          "ENTITÄT",
          "ENTITÄT",
          "ENTITÄT",
          "ENTITÄT",
          "ENTITÄT",
          "ENTITÄT",
          "ENTITÄT",
          "ENTITÄT",
          "ENTITÄT",
          "ENTITÄT",
          "ENTITÄT",
          "ENTITÄT",
          "ENTITÄT",
          "ENTITÄT",
          "ENTITÄT",
          "ENTITÄT",
          "ENTITÄT",
          "ENTITÄT",
          "ENTITÄT",
          "ENTITÄT",
          "ENTITÄT",
          "ENTITÄT",
          "ENTITÄT",
          "ENTITÄT",
          "ENTITÄT",
          "ENTITÄT",
          "ENTITÄT",
          "ENTITÄT",
          "ENTITÄT",
          "ENTITÄT",
          "ENTITÄT",
          "ENTITÄT",
          "ENTITÄT",
          "ENTITÄT",
          "ENTITÄT",
          "ENTITÄT",
          "ENTITÄT",
          "ENTITÄT",
          "ENTITÄT",
          "ENTITÄT",
          "ENTITÄT",
          "ENTITÄT",
          "ENTITÄT",
          "ENTITÄT",
          "ENTITÄT",
          "ENTITÄT",
          "ENTITÄT",
          "ENTITÄT",
          "ENTITÄT",
          "ENTITÄT",
          "ENTITÄT",
          "ENTITÄT",
          "ENTITÄT",
          "ENTITÄT",
          "ENTITÄT",
          "ENTITÄT",
          "ENTITÄT",
          "ENTITÄT",
          "ENTITÄT",
          "ENTITÄT",
          "ENTITÄT",
          "ENTITÄT",
          "ENTITÄT",
          "ENTITÄT",
          "ENTITÄT",
          "ENTITÄT",
          "ENTITÄT",
          "ENTITÄT"
         ],
         "xaxis": "x",
         "yaxis": "y"
        },
        {
         "alignmentgroup": "True",
         "bingroup": "x",
         "hovertemplate": "EntityType=%{x}<br>count=%{y}<extra></extra>",
         "legendgroup": "BEZIEHUNG",
         "marker": {
          "color": "#00cc96",
          "pattern": {
           "shape": ""
          }
         },
         "name": "BEZIEHUNG",
         "offsetgroup": "BEZIEHUNG",
         "orientation": "v",
         "showlegend": true,
         "type": "histogram",
         "x": [
          "BEZIEHUNG",
          "BEZIEHUNG",
          "BEZIEHUNG",
          "BEZIEHUNG",
          "BEZIEHUNG",
          "BEZIEHUNG",
          "BEZIEHUNG",
          "BEZIEHUNG",
          "BEZIEHUNG",
          "BEZIEHUNG",
          "BEZIEHUNG",
          "BEZIEHUNG",
          "BEZIEHUNG",
          "BEZIEHUNG",
          "BEZIEHUNG",
          "BEZIEHUNG",
          "BEZIEHUNG",
          "BEZIEHUNG",
          "BEZIEHUNG",
          "BEZIEHUNG",
          "BEZIEHUNG",
          "BEZIEHUNG",
          "BEZIEHUNG",
          "BEZIEHUNG",
          "BEZIEHUNG",
          "BEZIEHUNG",
          "BEZIEHUNG",
          "BEZIEHUNG",
          "BEZIEHUNG",
          "BEZIEHUNG",
          "BEZIEHUNG",
          "BEZIEHUNG",
          "BEZIEHUNG",
          "BEZIEHUNG",
          "BEZIEHUNG",
          "BEZIEHUNG",
          "BEZIEHUNG",
          "BEZIEHUNG",
          "BEZIEHUNG",
          "BEZIEHUNG",
          "BEZIEHUNG",
          "BEZIEHUNG",
          "BEZIEHUNG",
          "BEZIEHUNG",
          "BEZIEHUNG",
          "BEZIEHUNG",
          "BEZIEHUNG",
          "BEZIEHUNG",
          "BEZIEHUNG",
          "BEZIEHUNG",
          "BEZIEHUNG",
          "BEZIEHUNG",
          "BEZIEHUNG",
          "BEZIEHUNG",
          "BEZIEHUNG",
          "BEZIEHUNG",
          "BEZIEHUNG",
          "BEZIEHUNG",
          "BEZIEHUNG"
         ],
         "xaxis": "x",
         "yaxis": "y"
        },
        {
         "alignmentgroup": "True",
         "bingroup": "x",
         "hovertemplate": "EntityType=%{x}<br>count=%{y}<extra></extra>",
         "legendgroup": "ATTRIBUT",
         "marker": {
          "color": "#ab63fa",
          "pattern": {
           "shape": ""
          }
         },
         "name": "ATTRIBUT",
         "offsetgroup": "ATTRIBUT",
         "orientation": "v",
         "showlegend": true,
         "type": "histogram",
         "x": [
          "ATTRIBUT",
          "ATTRIBUT",
          "ATTRIBUT",
          "ATTRIBUT",
          "ATTRIBUT",
          "ATTRIBUT",
          "ATTRIBUT",
          "ATTRIBUT",
          "ATTRIBUT",
          "ATTRIBUT",
          "ATTRIBUT",
          "ATTRIBUT",
          "ATTRIBUT",
          "ATTRIBUT",
          "ATTRIBUT",
          "ATTRIBUT",
          "ATTRIBUT",
          "ATTRIBUT",
          "ATTRIBUT",
          "ATTRIBUT",
          "ATTRIBUT",
          "ATTRIBUT",
          "ATTRIBUT",
          "ATTRIBUT",
          "ATTRIBUT",
          "ATTRIBUT",
          "ATTRIBUT",
          "ATTRIBUT",
          "ATTRIBUT",
          "ATTRIBUT",
          "ATTRIBUT",
          "ATTRIBUT",
          "ATTRIBUT",
          "ATTRIBUT",
          "ATTRIBUT",
          "ATTRIBUT",
          "ATTRIBUT",
          "ATTRIBUT",
          "ATTRIBUT",
          "ATTRIBUT",
          "ATTRIBUT",
          "ATTRIBUT",
          "ATTRIBUT",
          "ATTRIBUT",
          "ATTRIBUT",
          "ATTRIBUT",
          "ATTRIBUT",
          "ATTRIBUT",
          "ATTRIBUT",
          "ATTRIBUT",
          "ATTRIBUT",
          "ATTRIBUT",
          "ATTRIBUT",
          "ATTRIBUT",
          "ATTRIBUT",
          "ATTRIBUT",
          "ATTRIBUT",
          "ATTRIBUT",
          "ATTRIBUT",
          "ATTRIBUT",
          "ATTRIBUT",
          "ATTRIBUT",
          "ATTRIBUT",
          "ATTRIBUT",
          "ATTRIBUT",
          "ATTRIBUT",
          "ATTRIBUT",
          "ATTRIBUT",
          "ATTRIBUT"
         ],
         "xaxis": "x",
         "yaxis": "y"
        },
        {
         "alignmentgroup": "True",
         "bingroup": "x",
         "hovertemplate": "EntityType=%{x}<br>count=%{y}<extra></extra>",
         "legendgroup": "PRIMÄRSCHLÜSSEL",
         "marker": {
          "color": "#FFA15A",
          "pattern": {
           "shape": ""
          }
         },
         "name": "PRIMÄRSCHLÜSSEL",
         "offsetgroup": "PRIMÄRSCHLÜSSEL",
         "orientation": "v",
         "showlegend": true,
         "type": "histogram",
         "x": [
          "PRIMÄRSCHLÜSSEL",
          "PRIMÄRSCHLÜSSEL",
          "PRIMÄRSCHLÜSSEL",
          "PRIMÄRSCHLÜSSEL",
          "PRIMÄRSCHLÜSSEL",
          "PRIMÄRSCHLÜSSEL",
          "PRIMÄRSCHLÜSSEL",
          "PRIMÄRSCHLÜSSEL",
          "PRIMÄRSCHLÜSSEL",
          "PRIMÄRSCHLÜSSEL",
          "PRIMÄRSCHLÜSSEL",
          "PRIMÄRSCHLÜSSEL",
          "PRIMÄRSCHLÜSSEL",
          "PRIMÄRSCHLÜSSEL",
          "PRIMÄRSCHLÜSSEL",
          "PRIMÄRSCHLÜSSEL",
          "PRIMÄRSCHLÜSSEL",
          "PRIMÄRSCHLÜSSEL",
          "PRIMÄRSCHLÜSSEL",
          "PRIMÄRSCHLÜSSEL",
          "PRIMÄRSCHLÜSSEL",
          "PRIMÄRSCHLÜSSEL",
          "PRIMÄRSCHLÜSSEL",
          "PRIMÄRSCHLÜSSEL",
          "PRIMÄRSCHLÜSSEL",
          "PRIMÄRSCHLÜSSEL",
          "PRIMÄRSCHLÜSSEL",
          "PRIMÄRSCHLÜSSEL"
         ],
         "xaxis": "x",
         "yaxis": "y"
        },
        {
         "alignmentgroup": "True",
         "bingroup": "x",
         "hovertemplate": "EntityType=%{x}<br>count=%{y}<extra></extra>",
         "legendgroup": "ISA",
         "marker": {
          "color": "#19d3f3",
          "pattern": {
           "shape": ""
          }
         },
         "name": "ISA",
         "offsetgroup": "ISA",
         "orientation": "v",
         "showlegend": true,
         "type": "histogram",
         "x": [
          "ISA",
          "ISA",
          "ISA",
          "ISA",
          "ISA",
          "ISA"
         ],
         "xaxis": "x",
         "yaxis": "y"
        },
        {
         "alignmentgroup": "True",
         "bingroup": "x",
         "hovertemplate": "EntityType=%{x}<br>count=%{y}<extra></extra>",
         "legendgroup": "MEHRWERTIGES ATTRIBUT",
         "marker": {
          "color": "#FF6692",
          "pattern": {
           "shape": ""
          }
         },
         "name": "MEHRWERTIGES ATTRIBUT",
         "offsetgroup": "MEHRWERTIGES ATTRIBUT",
         "orientation": "v",
         "showlegend": true,
         "type": "histogram",
         "x": [
          "MEHRWERTIGES ATTRIBUT",
          "MEHRWERTIGES ATTRIBUT"
         ],
         "xaxis": "x",
         "yaxis": "y"
        }
       ],
       "layout": {
        "barmode": "relative",
        "legend": {
         "title": {
          "text": "EntityType"
         },
         "tracegroupgap": 0
        },
        "margin": {
         "t": 60
        },
        "template": {
         "data": {
          "bar": [
           {
            "error_x": {
             "color": "#2a3f5f"
            },
            "error_y": {
             "color": "#2a3f5f"
            },
            "marker": {
             "line": {
              "color": "#E5ECF6",
              "width": 0.5
             },
             "pattern": {
              "fillmode": "overlay",
              "size": 10,
              "solidity": 0.2
             }
            },
            "type": "bar"
           }
          ],
          "barpolar": [
           {
            "marker": {
             "line": {
              "color": "#E5ECF6",
              "width": 0.5
             },
             "pattern": {
              "fillmode": "overlay",
              "size": 10,
              "solidity": 0.2
             }
            },
            "type": "barpolar"
           }
          ],
          "carpet": [
           {
            "aaxis": {
             "endlinecolor": "#2a3f5f",
             "gridcolor": "white",
             "linecolor": "white",
             "minorgridcolor": "white",
             "startlinecolor": "#2a3f5f"
            },
            "baxis": {
             "endlinecolor": "#2a3f5f",
             "gridcolor": "white",
             "linecolor": "white",
             "minorgridcolor": "white",
             "startlinecolor": "#2a3f5f"
            },
            "type": "carpet"
           }
          ],
          "choropleth": [
           {
            "colorbar": {
             "outlinewidth": 0,
             "ticks": ""
            },
            "type": "choropleth"
           }
          ],
          "contour": [
           {
            "colorbar": {
             "outlinewidth": 0,
             "ticks": ""
            },
            "colorscale": [
             [
              0,
              "#0d0887"
             ],
             [
              0.1111111111111111,
              "#46039f"
             ],
             [
              0.2222222222222222,
              "#7201a8"
             ],
             [
              0.3333333333333333,
              "#9c179e"
             ],
             [
              0.4444444444444444,
              "#bd3786"
             ],
             [
              0.5555555555555556,
              "#d8576b"
             ],
             [
              0.6666666666666666,
              "#ed7953"
             ],
             [
              0.7777777777777778,
              "#fb9f3a"
             ],
             [
              0.8888888888888888,
              "#fdca26"
             ],
             [
              1,
              "#f0f921"
             ]
            ],
            "type": "contour"
           }
          ],
          "contourcarpet": [
           {
            "colorbar": {
             "outlinewidth": 0,
             "ticks": ""
            },
            "type": "contourcarpet"
           }
          ],
          "heatmap": [
           {
            "colorbar": {
             "outlinewidth": 0,
             "ticks": ""
            },
            "colorscale": [
             [
              0,
              "#0d0887"
             ],
             [
              0.1111111111111111,
              "#46039f"
             ],
             [
              0.2222222222222222,
              "#7201a8"
             ],
             [
              0.3333333333333333,
              "#9c179e"
             ],
             [
              0.4444444444444444,
              "#bd3786"
             ],
             [
              0.5555555555555556,
              "#d8576b"
             ],
             [
              0.6666666666666666,
              "#ed7953"
             ],
             [
              0.7777777777777778,
              "#fb9f3a"
             ],
             [
              0.8888888888888888,
              "#fdca26"
             ],
             [
              1,
              "#f0f921"
             ]
            ],
            "type": "heatmap"
           }
          ],
          "heatmapgl": [
           {
            "colorbar": {
             "outlinewidth": 0,
             "ticks": ""
            },
            "colorscale": [
             [
              0,
              "#0d0887"
             ],
             [
              0.1111111111111111,
              "#46039f"
             ],
             [
              0.2222222222222222,
              "#7201a8"
             ],
             [
              0.3333333333333333,
              "#9c179e"
             ],
             [
              0.4444444444444444,
              "#bd3786"
             ],
             [
              0.5555555555555556,
              "#d8576b"
             ],
             [
              0.6666666666666666,
              "#ed7953"
             ],
             [
              0.7777777777777778,
              "#fb9f3a"
             ],
             [
              0.8888888888888888,
              "#fdca26"
             ],
             [
              1,
              "#f0f921"
             ]
            ],
            "type": "heatmapgl"
           }
          ],
          "histogram": [
           {
            "marker": {
             "pattern": {
              "fillmode": "overlay",
              "size": 10,
              "solidity": 0.2
             }
            },
            "type": "histogram"
           }
          ],
          "histogram2d": [
           {
            "colorbar": {
             "outlinewidth": 0,
             "ticks": ""
            },
            "colorscale": [
             [
              0,
              "#0d0887"
             ],
             [
              0.1111111111111111,
              "#46039f"
             ],
             [
              0.2222222222222222,
              "#7201a8"
             ],
             [
              0.3333333333333333,
              "#9c179e"
             ],
             [
              0.4444444444444444,
              "#bd3786"
             ],
             [
              0.5555555555555556,
              "#d8576b"
             ],
             [
              0.6666666666666666,
              "#ed7953"
             ],
             [
              0.7777777777777778,
              "#fb9f3a"
             ],
             [
              0.8888888888888888,
              "#fdca26"
             ],
             [
              1,
              "#f0f921"
             ]
            ],
            "type": "histogram2d"
           }
          ],
          "histogram2dcontour": [
           {
            "colorbar": {
             "outlinewidth": 0,
             "ticks": ""
            },
            "colorscale": [
             [
              0,
              "#0d0887"
             ],
             [
              0.1111111111111111,
              "#46039f"
             ],
             [
              0.2222222222222222,
              "#7201a8"
             ],
             [
              0.3333333333333333,
              "#9c179e"
             ],
             [
              0.4444444444444444,
              "#bd3786"
             ],
             [
              0.5555555555555556,
              "#d8576b"
             ],
             [
              0.6666666666666666,
              "#ed7953"
             ],
             [
              0.7777777777777778,
              "#fb9f3a"
             ],
             [
              0.8888888888888888,
              "#fdca26"
             ],
             [
              1,
              "#f0f921"
             ]
            ],
            "type": "histogram2dcontour"
           }
          ],
          "mesh3d": [
           {
            "colorbar": {
             "outlinewidth": 0,
             "ticks": ""
            },
            "type": "mesh3d"
           }
          ],
          "parcoords": [
           {
            "line": {
             "colorbar": {
              "outlinewidth": 0,
              "ticks": ""
             }
            },
            "type": "parcoords"
           }
          ],
          "pie": [
           {
            "automargin": true,
            "type": "pie"
           }
          ],
          "scatter": [
           {
            "fillpattern": {
             "fillmode": "overlay",
             "size": 10,
             "solidity": 0.2
            },
            "type": "scatter"
           }
          ],
          "scatter3d": [
           {
            "line": {
             "colorbar": {
              "outlinewidth": 0,
              "ticks": ""
             }
            },
            "marker": {
             "colorbar": {
              "outlinewidth": 0,
              "ticks": ""
             }
            },
            "type": "scatter3d"
           }
          ],
          "scattercarpet": [
           {
            "marker": {
             "colorbar": {
              "outlinewidth": 0,
              "ticks": ""
             }
            },
            "type": "scattercarpet"
           }
          ],
          "scattergeo": [
           {
            "marker": {
             "colorbar": {
              "outlinewidth": 0,
              "ticks": ""
             }
            },
            "type": "scattergeo"
           }
          ],
          "scattergl": [
           {
            "marker": {
             "colorbar": {
              "outlinewidth": 0,
              "ticks": ""
             }
            },
            "type": "scattergl"
           }
          ],
          "scattermapbox": [
           {
            "marker": {
             "colorbar": {
              "outlinewidth": 0,
              "ticks": ""
             }
            },
            "type": "scattermapbox"
           }
          ],
          "scatterpolar": [
           {
            "marker": {
             "colorbar": {
              "outlinewidth": 0,
              "ticks": ""
             }
            },
            "type": "scatterpolar"
           }
          ],
          "scatterpolargl": [
           {
            "marker": {
             "colorbar": {
              "outlinewidth": 0,
              "ticks": ""
             }
            },
            "type": "scatterpolargl"
           }
          ],
          "scatterternary": [
           {
            "marker": {
             "colorbar": {
              "outlinewidth": 0,
              "ticks": ""
             }
            },
            "type": "scatterternary"
           }
          ],
          "surface": [
           {
            "colorbar": {
             "outlinewidth": 0,
             "ticks": ""
            },
            "colorscale": [
             [
              0,
              "#0d0887"
             ],
             [
              0.1111111111111111,
              "#46039f"
             ],
             [
              0.2222222222222222,
              "#7201a8"
             ],
             [
              0.3333333333333333,
              "#9c179e"
             ],
             [
              0.4444444444444444,
              "#bd3786"
             ],
             [
              0.5555555555555556,
              "#d8576b"
             ],
             [
              0.6666666666666666,
              "#ed7953"
             ],
             [
              0.7777777777777778,
              "#fb9f3a"
             ],
             [
              0.8888888888888888,
              "#fdca26"
             ],
             [
              1,
              "#f0f921"
             ]
            ],
            "type": "surface"
           }
          ],
          "table": [
           {
            "cells": {
             "fill": {
              "color": "#EBF0F8"
             },
             "line": {
              "color": "white"
             }
            },
            "header": {
             "fill": {
              "color": "#C8D4E3"
             },
             "line": {
              "color": "white"
             }
            },
            "type": "table"
           }
          ]
         },
         "layout": {
          "annotationdefaults": {
           "arrowcolor": "#2a3f5f",
           "arrowhead": 0,
           "arrowwidth": 1
          },
          "autotypenumbers": "strict",
          "coloraxis": {
           "colorbar": {
            "outlinewidth": 0,
            "ticks": ""
           }
          },
          "colorscale": {
           "diverging": [
            [
             0,
             "#8e0152"
            ],
            [
             0.1,
             "#c51b7d"
            ],
            [
             0.2,
             "#de77ae"
            ],
            [
             0.3,
             "#f1b6da"
            ],
            [
             0.4,
             "#fde0ef"
            ],
            [
             0.5,
             "#f7f7f7"
            ],
            [
             0.6,
             "#e6f5d0"
            ],
            [
             0.7,
             "#b8e186"
            ],
            [
             0.8,
             "#7fbc41"
            ],
            [
             0.9,
             "#4d9221"
            ],
            [
             1,
             "#276419"
            ]
           ],
           "sequential": [
            [
             0,
             "#0d0887"
            ],
            [
             0.1111111111111111,
             "#46039f"
            ],
            [
             0.2222222222222222,
             "#7201a8"
            ],
            [
             0.3333333333333333,
             "#9c179e"
            ],
            [
             0.4444444444444444,
             "#bd3786"
            ],
            [
             0.5555555555555556,
             "#d8576b"
            ],
            [
             0.6666666666666666,
             "#ed7953"
            ],
            [
             0.7777777777777778,
             "#fb9f3a"
            ],
            [
             0.8888888888888888,
             "#fdca26"
            ],
            [
             1,
             "#f0f921"
            ]
           ],
           "sequentialminus": [
            [
             0,
             "#0d0887"
            ],
            [
             0.1111111111111111,
             "#46039f"
            ],
            [
             0.2222222222222222,
             "#7201a8"
            ],
            [
             0.3333333333333333,
             "#9c179e"
            ],
            [
             0.4444444444444444,
             "#bd3786"
            ],
            [
             0.5555555555555556,
             "#d8576b"
            ],
            [
             0.6666666666666666,
             "#ed7953"
            ],
            [
             0.7777777777777778,
             "#fb9f3a"
            ],
            [
             0.8888888888888888,
             "#fdca26"
            ],
            [
             1,
             "#f0f921"
            ]
           ]
          },
          "colorway": [
           "#636efa",
           "#EF553B",
           "#00cc96",
           "#ab63fa",
           "#FFA15A",
           "#19d3f3",
           "#FF6692",
           "#B6E880",
           "#FF97FF",
           "#FECB52"
          ],
          "font": {
           "color": "#2a3f5f"
          },
          "geo": {
           "bgcolor": "white",
           "lakecolor": "white",
           "landcolor": "#E5ECF6",
           "showlakes": true,
           "showland": true,
           "subunitcolor": "white"
          },
          "hoverlabel": {
           "align": "left"
          },
          "hovermode": "closest",
          "mapbox": {
           "style": "light"
          },
          "paper_bgcolor": "white",
          "plot_bgcolor": "#E5ECF6",
          "polar": {
           "angularaxis": {
            "gridcolor": "white",
            "linecolor": "white",
            "ticks": ""
           },
           "bgcolor": "#E5ECF6",
           "radialaxis": {
            "gridcolor": "white",
            "linecolor": "white",
            "ticks": ""
           }
          },
          "scene": {
           "xaxis": {
            "backgroundcolor": "#E5ECF6",
            "gridcolor": "white",
            "gridwidth": 2,
            "linecolor": "white",
            "showbackground": true,
            "ticks": "",
            "zerolinecolor": "white"
           },
           "yaxis": {
            "backgroundcolor": "#E5ECF6",
            "gridcolor": "white",
            "gridwidth": 2,
            "linecolor": "white",
            "showbackground": true,
            "ticks": "",
            "zerolinecolor": "white"
           },
           "zaxis": {
            "backgroundcolor": "#E5ECF6",
            "gridcolor": "white",
            "gridwidth": 2,
            "linecolor": "white",
            "showbackground": true,
            "ticks": "",
            "zerolinecolor": "white"
           }
          },
          "shapedefaults": {
           "line": {
            "color": "#2a3f5f"
           }
          },
          "ternary": {
           "aaxis": {
            "gridcolor": "white",
            "linecolor": "white",
            "ticks": ""
           },
           "baxis": {
            "gridcolor": "white",
            "linecolor": "white",
            "ticks": ""
           },
           "bgcolor": "#E5ECF6",
           "caxis": {
            "gridcolor": "white",
            "linecolor": "white",
            "ticks": ""
           }
          },
          "title": {
           "x": 0.05
          },
          "xaxis": {
           "automargin": true,
           "gridcolor": "white",
           "linecolor": "white",
           "ticks": "",
           "title": {
            "standoff": 15
           },
           "zerolinecolor": "white",
           "zerolinewidth": 2
          },
          "yaxis": {
           "automargin": true,
           "gridcolor": "white",
           "linecolor": "white",
           "ticks": "",
           "title": {
            "standoff": 15
           },
           "zerolinecolor": "white",
           "zerolinewidth": 2
          }
         }
        },
        "xaxis": {
         "anchor": "y",
         "categoryarray": [
          "KARDINALITÄT",
          "ENTITÄT",
          "BEZIEHUNG",
          "ATTRIBUT",
          "PRIMÄRSCHLÜSSEL",
          "ISA",
          "MEHRWERTIGES ATTRIBUT"
         ],
         "categoryorder": "array",
         "domain": [
          0,
          1
         ],
         "title": {
          "text": "EntityType"
         }
        },
        "yaxis": {
         "anchor": "x",
         "domain": [
          0,
          1
         ],
         "title": {
          "text": "count"
         }
        }
       }
      }
     },
     "metadata": {},
     "output_type": "display_data"
    }
   ],
   "source": [
    "fig = px.histogram(data[~data.EntityType.str.contains(\"o\")], x=\"EntityType\",color=\"EntityType\")\n",
    "fig.show()"
   ]
  },
  {
   "attachments": {},
   "cell_type": "markdown",
   "metadata": {},
   "source": [
    "### Data Manipulation "
   ]
  },
  {
   "cell_type": "code",
   "execution_count": 40,
   "metadata": {},
   "outputs": [],
   "source": [
    "def sentence_integrate(data):\n",
    "  agg_func = lambda s: [(w, t) for w, t in zip(s[\"Word\"].values.tolist(),s[\"EntityType\"].values.tolist())]\n",
    "  return data.groupby('Index').apply(agg_func).tolist()"
   ]
  },
  {
   "cell_type": "code",
   "execution_count": 41,
   "metadata": {},
   "outputs": [],
   "source": [
    "sentences=sentence_integrate(data)"
   ]
  },
  {
   "cell_type": "code",
   "execution_count": 42,
   "metadata": {},
   "outputs": [
    {
     "data": {
      "application/vnd.plotly.v1+json": {
       "config": {
        "plotlyServerURL": "https://plot.ly"
       },
       "data": [
        {
         "alignmentgroup": "True",
         "bingroup": "x",
         "hovertemplate": "length=%{x}<br>count=%{y}<extra></extra>",
         "legendgroup": "",
         "marker": {
          "color": "#636efa",
          "pattern": {
           "shape": ""
          }
         },
         "name": "",
         "offsetgroup": "",
         "orientation": "v",
         "showlegend": false,
         "type": "histogram",
         "x": [
          7,
          9,
          7,
          7,
          7,
          9,
          7,
          8,
          8,
          11,
          14,
          7,
          8,
          12,
          8,
          19,
          10,
          9,
          12,
          15,
          13,
          14,
          23,
          18,
          8,
          9,
          13,
          19,
          6,
          8,
          10,
          6,
          11,
          9,
          18,
          11,
          10,
          10,
          10,
          10,
          11,
          6,
          7,
          10,
          8,
          6,
          8,
          8,
          19,
          16,
          9,
          23,
          4,
          12,
          20,
          10,
          7,
          17,
          7,
          9,
          12,
          25,
          4,
          11,
          12,
          14,
          18,
          7,
          4,
          10,
          9,
          11,
          8,
          10,
          19,
          16,
          16,
          6,
          9,
          7,
          8,
          7,
          11,
          11,
          8,
          14,
          13,
          10,
          11,
          15,
          21,
          12,
          23,
          9,
          9,
          8,
          21,
          13,
          9,
          9,
          6,
          13,
          13
         ],
         "xaxis": "x",
         "yaxis": "y"
        },
        {
         "alignmentgroup": "True",
         "hovertemplate": "length=%{x}<extra></extra>",
         "legendgroup": "",
         "marker": {
          "color": "#636efa"
         },
         "name": "",
         "notched": true,
         "offsetgroup": "",
         "showlegend": false,
         "type": "box",
         "x": [
          7,
          9,
          7,
          7,
          7,
          9,
          7,
          8,
          8,
          11,
          14,
          7,
          8,
          12,
          8,
          19,
          10,
          9,
          12,
          15,
          13,
          14,
          23,
          18,
          8,
          9,
          13,
          19,
          6,
          8,
          10,
          6,
          11,
          9,
          18,
          11,
          10,
          10,
          10,
          10,
          11,
          6,
          7,
          10,
          8,
          6,
          8,
          8,
          19,
          16,
          9,
          23,
          4,
          12,
          20,
          10,
          7,
          17,
          7,
          9,
          12,
          25,
          4,
          11,
          12,
          14,
          18,
          7,
          4,
          10,
          9,
          11,
          8,
          10,
          19,
          16,
          16,
          6,
          9,
          7,
          8,
          7,
          11,
          11,
          8,
          14,
          13,
          10,
          11,
          15,
          21,
          12,
          23,
          9,
          9,
          8,
          21,
          13,
          9,
          9,
          6,
          13,
          13
         ],
         "xaxis": "x2",
         "yaxis": "y2"
        }
       ],
       "layout": {
        "barmode": "relative",
        "legend": {
         "tracegroupgap": 0
        },
        "margin": {
         "t": 60
        },
        "template": {
         "data": {
          "bar": [
           {
            "error_x": {
             "color": "#2a3f5f"
            },
            "error_y": {
             "color": "#2a3f5f"
            },
            "marker": {
             "line": {
              "color": "#E5ECF6",
              "width": 0.5
             },
             "pattern": {
              "fillmode": "overlay",
              "size": 10,
              "solidity": 0.2
             }
            },
            "type": "bar"
           }
          ],
          "barpolar": [
           {
            "marker": {
             "line": {
              "color": "#E5ECF6",
              "width": 0.5
             },
             "pattern": {
              "fillmode": "overlay",
              "size": 10,
              "solidity": 0.2
             }
            },
            "type": "barpolar"
           }
          ],
          "carpet": [
           {
            "aaxis": {
             "endlinecolor": "#2a3f5f",
             "gridcolor": "white",
             "linecolor": "white",
             "minorgridcolor": "white",
             "startlinecolor": "#2a3f5f"
            },
            "baxis": {
             "endlinecolor": "#2a3f5f",
             "gridcolor": "white",
             "linecolor": "white",
             "minorgridcolor": "white",
             "startlinecolor": "#2a3f5f"
            },
            "type": "carpet"
           }
          ],
          "choropleth": [
           {
            "colorbar": {
             "outlinewidth": 0,
             "ticks": ""
            },
            "type": "choropleth"
           }
          ],
          "contour": [
           {
            "colorbar": {
             "outlinewidth": 0,
             "ticks": ""
            },
            "colorscale": [
             [
              0,
              "#0d0887"
             ],
             [
              0.1111111111111111,
              "#46039f"
             ],
             [
              0.2222222222222222,
              "#7201a8"
             ],
             [
              0.3333333333333333,
              "#9c179e"
             ],
             [
              0.4444444444444444,
              "#bd3786"
             ],
             [
              0.5555555555555556,
              "#d8576b"
             ],
             [
              0.6666666666666666,
              "#ed7953"
             ],
             [
              0.7777777777777778,
              "#fb9f3a"
             ],
             [
              0.8888888888888888,
              "#fdca26"
             ],
             [
              1,
              "#f0f921"
             ]
            ],
            "type": "contour"
           }
          ],
          "contourcarpet": [
           {
            "colorbar": {
             "outlinewidth": 0,
             "ticks": ""
            },
            "type": "contourcarpet"
           }
          ],
          "heatmap": [
           {
            "colorbar": {
             "outlinewidth": 0,
             "ticks": ""
            },
            "colorscale": [
             [
              0,
              "#0d0887"
             ],
             [
              0.1111111111111111,
              "#46039f"
             ],
             [
              0.2222222222222222,
              "#7201a8"
             ],
             [
              0.3333333333333333,
              "#9c179e"
             ],
             [
              0.4444444444444444,
              "#bd3786"
             ],
             [
              0.5555555555555556,
              "#d8576b"
             ],
             [
              0.6666666666666666,
              "#ed7953"
             ],
             [
              0.7777777777777778,
              "#fb9f3a"
             ],
             [
              0.8888888888888888,
              "#fdca26"
             ],
             [
              1,
              "#f0f921"
             ]
            ],
            "type": "heatmap"
           }
          ],
          "heatmapgl": [
           {
            "colorbar": {
             "outlinewidth": 0,
             "ticks": ""
            },
            "colorscale": [
             [
              0,
              "#0d0887"
             ],
             [
              0.1111111111111111,
              "#46039f"
             ],
             [
              0.2222222222222222,
              "#7201a8"
             ],
             [
              0.3333333333333333,
              "#9c179e"
             ],
             [
              0.4444444444444444,
              "#bd3786"
             ],
             [
              0.5555555555555556,
              "#d8576b"
             ],
             [
              0.6666666666666666,
              "#ed7953"
             ],
             [
              0.7777777777777778,
              "#fb9f3a"
             ],
             [
              0.8888888888888888,
              "#fdca26"
             ],
             [
              1,
              "#f0f921"
             ]
            ],
            "type": "heatmapgl"
           }
          ],
          "histogram": [
           {
            "marker": {
             "pattern": {
              "fillmode": "overlay",
              "size": 10,
              "solidity": 0.2
             }
            },
            "type": "histogram"
           }
          ],
          "histogram2d": [
           {
            "colorbar": {
             "outlinewidth": 0,
             "ticks": ""
            },
            "colorscale": [
             [
              0,
              "#0d0887"
             ],
             [
              0.1111111111111111,
              "#46039f"
             ],
             [
              0.2222222222222222,
              "#7201a8"
             ],
             [
              0.3333333333333333,
              "#9c179e"
             ],
             [
              0.4444444444444444,
              "#bd3786"
             ],
             [
              0.5555555555555556,
              "#d8576b"
             ],
             [
              0.6666666666666666,
              "#ed7953"
             ],
             [
              0.7777777777777778,
              "#fb9f3a"
             ],
             [
              0.8888888888888888,
              "#fdca26"
             ],
             [
              1,
              "#f0f921"
             ]
            ],
            "type": "histogram2d"
           }
          ],
          "histogram2dcontour": [
           {
            "colorbar": {
             "outlinewidth": 0,
             "ticks": ""
            },
            "colorscale": [
             [
              0,
              "#0d0887"
             ],
             [
              0.1111111111111111,
              "#46039f"
             ],
             [
              0.2222222222222222,
              "#7201a8"
             ],
             [
              0.3333333333333333,
              "#9c179e"
             ],
             [
              0.4444444444444444,
              "#bd3786"
             ],
             [
              0.5555555555555556,
              "#d8576b"
             ],
             [
              0.6666666666666666,
              "#ed7953"
             ],
             [
              0.7777777777777778,
              "#fb9f3a"
             ],
             [
              0.8888888888888888,
              "#fdca26"
             ],
             [
              1,
              "#f0f921"
             ]
            ],
            "type": "histogram2dcontour"
           }
          ],
          "mesh3d": [
           {
            "colorbar": {
             "outlinewidth": 0,
             "ticks": ""
            },
            "type": "mesh3d"
           }
          ],
          "parcoords": [
           {
            "line": {
             "colorbar": {
              "outlinewidth": 0,
              "ticks": ""
             }
            },
            "type": "parcoords"
           }
          ],
          "pie": [
           {
            "automargin": true,
            "type": "pie"
           }
          ],
          "scatter": [
           {
            "fillpattern": {
             "fillmode": "overlay",
             "size": 10,
             "solidity": 0.2
            },
            "type": "scatter"
           }
          ],
          "scatter3d": [
           {
            "line": {
             "colorbar": {
              "outlinewidth": 0,
              "ticks": ""
             }
            },
            "marker": {
             "colorbar": {
              "outlinewidth": 0,
              "ticks": ""
             }
            },
            "type": "scatter3d"
           }
          ],
          "scattercarpet": [
           {
            "marker": {
             "colorbar": {
              "outlinewidth": 0,
              "ticks": ""
             }
            },
            "type": "scattercarpet"
           }
          ],
          "scattergeo": [
           {
            "marker": {
             "colorbar": {
              "outlinewidth": 0,
              "ticks": ""
             }
            },
            "type": "scattergeo"
           }
          ],
          "scattergl": [
           {
            "marker": {
             "colorbar": {
              "outlinewidth": 0,
              "ticks": ""
             }
            },
            "type": "scattergl"
           }
          ],
          "scattermapbox": [
           {
            "marker": {
             "colorbar": {
              "outlinewidth": 0,
              "ticks": ""
             }
            },
            "type": "scattermapbox"
           }
          ],
          "scatterpolar": [
           {
            "marker": {
             "colorbar": {
              "outlinewidth": 0,
              "ticks": ""
             }
            },
            "type": "scatterpolar"
           }
          ],
          "scatterpolargl": [
           {
            "marker": {
             "colorbar": {
              "outlinewidth": 0,
              "ticks": ""
             }
            },
            "type": "scatterpolargl"
           }
          ],
          "scatterternary": [
           {
            "marker": {
             "colorbar": {
              "outlinewidth": 0,
              "ticks": ""
             }
            },
            "type": "scatterternary"
           }
          ],
          "surface": [
           {
            "colorbar": {
             "outlinewidth": 0,
             "ticks": ""
            },
            "colorscale": [
             [
              0,
              "#0d0887"
             ],
             [
              0.1111111111111111,
              "#46039f"
             ],
             [
              0.2222222222222222,
              "#7201a8"
             ],
             [
              0.3333333333333333,
              "#9c179e"
             ],
             [
              0.4444444444444444,
              "#bd3786"
             ],
             [
              0.5555555555555556,
              "#d8576b"
             ],
             [
              0.6666666666666666,
              "#ed7953"
             ],
             [
              0.7777777777777778,
              "#fb9f3a"
             ],
             [
              0.8888888888888888,
              "#fdca26"
             ],
             [
              1,
              "#f0f921"
             ]
            ],
            "type": "surface"
           }
          ],
          "table": [
           {
            "cells": {
             "fill": {
              "color": "#EBF0F8"
             },
             "line": {
              "color": "white"
             }
            },
            "header": {
             "fill": {
              "color": "#C8D4E3"
             },
             "line": {
              "color": "white"
             }
            },
            "type": "table"
           }
          ]
         },
         "layout": {
          "annotationdefaults": {
           "arrowcolor": "#2a3f5f",
           "arrowhead": 0,
           "arrowwidth": 1
          },
          "autotypenumbers": "strict",
          "coloraxis": {
           "colorbar": {
            "outlinewidth": 0,
            "ticks": ""
           }
          },
          "colorscale": {
           "diverging": [
            [
             0,
             "#8e0152"
            ],
            [
             0.1,
             "#c51b7d"
            ],
            [
             0.2,
             "#de77ae"
            ],
            [
             0.3,
             "#f1b6da"
            ],
            [
             0.4,
             "#fde0ef"
            ],
            [
             0.5,
             "#f7f7f7"
            ],
            [
             0.6,
             "#e6f5d0"
            ],
            [
             0.7,
             "#b8e186"
            ],
            [
             0.8,
             "#7fbc41"
            ],
            [
             0.9,
             "#4d9221"
            ],
            [
             1,
             "#276419"
            ]
           ],
           "sequential": [
            [
             0,
             "#0d0887"
            ],
            [
             0.1111111111111111,
             "#46039f"
            ],
            [
             0.2222222222222222,
             "#7201a8"
            ],
            [
             0.3333333333333333,
             "#9c179e"
            ],
            [
             0.4444444444444444,
             "#bd3786"
            ],
            [
             0.5555555555555556,
             "#d8576b"
            ],
            [
             0.6666666666666666,
             "#ed7953"
            ],
            [
             0.7777777777777778,
             "#fb9f3a"
            ],
            [
             0.8888888888888888,
             "#fdca26"
            ],
            [
             1,
             "#f0f921"
            ]
           ],
           "sequentialminus": [
            [
             0,
             "#0d0887"
            ],
            [
             0.1111111111111111,
             "#46039f"
            ],
            [
             0.2222222222222222,
             "#7201a8"
            ],
            [
             0.3333333333333333,
             "#9c179e"
            ],
            [
             0.4444444444444444,
             "#bd3786"
            ],
            [
             0.5555555555555556,
             "#d8576b"
            ],
            [
             0.6666666666666666,
             "#ed7953"
            ],
            [
             0.7777777777777778,
             "#fb9f3a"
            ],
            [
             0.8888888888888888,
             "#fdca26"
            ],
            [
             1,
             "#f0f921"
            ]
           ]
          },
          "colorway": [
           "#636efa",
           "#EF553B",
           "#00cc96",
           "#ab63fa",
           "#FFA15A",
           "#19d3f3",
           "#FF6692",
           "#B6E880",
           "#FF97FF",
           "#FECB52"
          ],
          "font": {
           "color": "#2a3f5f"
          },
          "geo": {
           "bgcolor": "white",
           "lakecolor": "white",
           "landcolor": "#E5ECF6",
           "showlakes": true,
           "showland": true,
           "subunitcolor": "white"
          },
          "hoverlabel": {
           "align": "left"
          },
          "hovermode": "closest",
          "mapbox": {
           "style": "light"
          },
          "paper_bgcolor": "white",
          "plot_bgcolor": "#E5ECF6",
          "polar": {
           "angularaxis": {
            "gridcolor": "white",
            "linecolor": "white",
            "ticks": ""
           },
           "bgcolor": "#E5ECF6",
           "radialaxis": {
            "gridcolor": "white",
            "linecolor": "white",
            "ticks": ""
           }
          },
          "scene": {
           "xaxis": {
            "backgroundcolor": "#E5ECF6",
            "gridcolor": "white",
            "gridwidth": 2,
            "linecolor": "white",
            "showbackground": true,
            "ticks": "",
            "zerolinecolor": "white"
           },
           "yaxis": {
            "backgroundcolor": "#E5ECF6",
            "gridcolor": "white",
            "gridwidth": 2,
            "linecolor": "white",
            "showbackground": true,
            "ticks": "",
            "zerolinecolor": "white"
           },
           "zaxis": {
            "backgroundcolor": "#E5ECF6",
            "gridcolor": "white",
            "gridwidth": 2,
            "linecolor": "white",
            "showbackground": true,
            "ticks": "",
            "zerolinecolor": "white"
           }
          },
          "shapedefaults": {
           "line": {
            "color": "#2a3f5f"
           }
          },
          "ternary": {
           "aaxis": {
            "gridcolor": "white",
            "linecolor": "white",
            "ticks": ""
           },
           "baxis": {
            "gridcolor": "white",
            "linecolor": "white",
            "ticks": ""
           },
           "bgcolor": "#E5ECF6",
           "caxis": {
            "gridcolor": "white",
            "linecolor": "white",
            "ticks": ""
           }
          },
          "title": {
           "x": 0.05
          },
          "xaxis": {
           "automargin": true,
           "gridcolor": "white",
           "linecolor": "white",
           "ticks": "",
           "title": {
            "standoff": 15
           },
           "zerolinecolor": "white",
           "zerolinewidth": 2
          },
          "yaxis": {
           "automargin": true,
           "gridcolor": "white",
           "linecolor": "white",
           "ticks": "",
           "title": {
            "standoff": 15
           },
           "zerolinecolor": "white",
           "zerolinewidth": 2
          }
         }
        },
        "xaxis": {
         "anchor": "y",
         "domain": [
          0,
          1
         ],
         "title": {
          "text": "length"
         }
        },
        "xaxis2": {
         "anchor": "y2",
         "domain": [
          0,
          1
         ],
         "matches": "x",
         "showgrid": true,
         "showticklabels": false
        },
        "yaxis": {
         "anchor": "x",
         "domain": [
          0,
          0.8316
         ],
         "title": {
          "text": "count"
         }
        },
        "yaxis2": {
         "anchor": "x2",
         "domain": [
          0.8416,
          1
         ],
         "matches": "y2",
         "showgrid": false,
         "showline": false,
         "showticklabels": false,
         "ticks": ""
        }
       }
      }
     },
     "metadata": {},
     "output_type": "display_data"
    }
   ],
   "source": [
    "fig = px.histogram(pd.DataFrame([len(s) for s in sentences],columns=['length']),x=\"length\",marginal='box')\n",
    "fig.show()"
   ]
  },
  {
   "cell_type": "code",
   "execution_count": 43,
   "metadata": {},
   "outputs": [
    {
     "data": {
      "text/plain": [
       "[('Ein', 'KARDINALITÄT'),\n",
       " ('Geschäft', 'ENTITÄT'),\n",
       " ('hat', 'BEZIEHUNG'),\n",
       " ('viele', 'KARDINALITÄT'),\n",
       " ('Filialen', 'ENTITÄT'),\n",
       " ('Filialen', 'o'),\n",
       " ('.', 'o')]"
      ]
     },
     "execution_count": 43,
     "metadata": {},
     "output_type": "execute_result"
    }
   ],
   "source": [
    "sentences[0]"
   ]
  },
  {
   "attachments": {},
   "cell_type": "markdown",
   "metadata": {},
   "source": [
    "### Build a vocabulary for words and tags"
   ]
  },
  {
   "cell_type": "code",
   "execution_count": 44,
   "metadata": {},
   "outputs": [],
   "source": [
    "word2idx = {w: i + 1 for i, w in enumerate(words)}\n",
    "tag2idx = {t: i for i, t in enumerate(tags)}"
   ]
  },
  {
   "cell_type": "code",
   "execution_count": 45,
   "metadata": {},
   "outputs": [
    {
     "data": {
      "text/plain": [
       "{'BEZIEHUNG': 0,\n",
       " 'MEHRWERTIGES ATTRIBUT': 1,\n",
       " 'o': 2,\n",
       " 'ISA': 3,\n",
       " 'ENTITÄT': 4,\n",
       " 'KARDINALITÄT': 5,\n",
       " 'PRIMÄRSCHLÜSSEL': 6,\n",
       " 'ATTRIBUT': 7}"
      ]
     },
     "execution_count": 45,
     "metadata": {},
     "output_type": "execute_result"
    }
   ],
   "source": [
    "tag2idx"
   ]
  },
  {
   "attachments": {},
   "cell_type": "markdown",
   "metadata": {},
   "source": [
    "### Padding the input sentence to the same length (50)"
   ]
  },
  {
   "cell_type": "code",
   "execution_count": 46,
   "metadata": {},
   "outputs": [],
   "source": [
    "max_len = 50\n",
    "\n",
    "X = [[word2idx[w[0]] for w in s] for s in sentences]\n",
    "X = pad_sequences(maxlen=max_len, sequences=X, padding=\"post\", value=num_words-1)\n",
    "\n",
    "y = [[tag2idx[w[1]] for w in s] for s in sentences]\n",
    "y = pad_sequences(maxlen=max_len, sequences=y, padding=\"post\", value=tag2idx[\"o\"])"
   ]
  },
  {
   "cell_type": "code",
   "execution_count": 47,
   "metadata": {},
   "outputs": [],
   "source": [
    "x_train, x_test, y_train, y_test = train_test_split(X, y, test_size=0.2, random_state=1)"
   ]
  },
  {
   "attachments": {},
   "cell_type": "markdown",
   "metadata": {},
   "source": [
    "### Build and Compile a Bidirectional LSTM Model"
   ]
  },
  {
   "cell_type": "code",
   "execution_count": 48,
   "metadata": {},
   "outputs": [
    {
     "name": "stdout",
     "output_type": "stream",
     "text": [
      "Model: \"sequential_1\"\n",
      "_________________________________________________________________\n",
      " Layer (type)                Output Shape              Param #   \n",
      "=================================================================\n",
      " embedding_1 (Embedding)     (None, 50, 50)            23800     \n",
      "                                                                 \n",
      " spatial_dropout1d_1 (Spati  (None, 50, 50)            0         \n",
      " alDropout1D)                                                    \n",
      "                                                                 \n",
      " bidirectional_1 (Bidirecti  (None, 50, 200)           120800    \n",
      " onal)                                                           \n",
      "                                                                 \n",
      "=================================================================\n",
      "Total params: 144600 (564.84 KB)\n",
      "Trainable params: 144600 (564.84 KB)\n",
      "Non-trainable params: 0 (0.00 Byte)\n",
      "_________________________________________________________________\n"
     ]
    }
   ],
   "source": [
    "model = keras.Sequential()\n",
    "model.add(InputLayer((max_len)))\n",
    "model.add(Embedding(input_dim=num_words, output_dim=max_len, input_length=max_len))\n",
    "model.add(SpatialDropout1D(0.1))\n",
    "model.add(Bidirectional(LSTM(units=100, return_sequences=True, recurrent_dropout=0.1)))\n",
    "\n",
    "model.summary()"
   ]
  },
  {
   "cell_type": "code",
   "execution_count": 49,
   "metadata": {},
   "outputs": [
    {
     "data": {
      "image/png": "[encoded data removed]",
      "text/plain": [
       "<IPython.core.display.Image object>"
      ]
     },
     "execution_count": 49,
     "metadata": {},
     "output_type": "execute_result"
    }
   ],
   "source": [
    "tf.keras.utils.plot_model(\n",
    "    model, show_shapes=True, show_dtype=False,\n",
    "    show_layer_names=True, rankdir='LR', expand_nested=True, dpi=300,\n",
    ")"
   ]
  },
  {
   "cell_type": "code",
   "execution_count": 50,
   "metadata": {},
   "outputs": [],
   "source": [
    "model.compile(optimizer=\"adam\",\n",
    "              loss=\"sparse_categorical_crossentropy\",\n",
    "              metrics=[\"accuracy\"])"
   ]
  },
  {
   "cell_type": "code",
   "execution_count": 51,
   "metadata": {},
   "outputs": [
    {
     "data": {
      "image/png": "[encoded data removed]",
      "text/plain": [
       "<Figure size 1200x800 with 2 Axes>"
      ]
     },
     "metadata": {},
     "output_type": "display_data"
    },
    {
     "name": "stdout",
     "output_type": "stream",
     "text": [
      "accuracy\n",
      "\ttraining         \t (min:    0.147, max:    0.921, cur:    0.921)\n",
      "\tvalidation       \t (min:    0.765, max:    0.921, cur:    0.921)\n",
      "Loss\n",
      "\ttraining         \t (min:    0.451, max:    5.985, cur:    0.451)\n",
      "\tvalidation       \t (min:    0.536, max:    3.507, cur:    0.536)\n",
      "\n",
      "Epoch 11: val_loss improved from 0.57232 to 0.53637, saving model to model_weights.h5\n",
      "3/3 [==============================] - 0s 155ms/step - loss: 0.4513 - accuracy: 0.9207 - val_loss: 0.5364 - val_accuracy: 0.9210\n"
     ]
    }
   ],
   "source": [
    "#%%time\n",
    "\n",
    "logdir=\"./logs/fit/\" + datetime.datetime.now().strftime(\"%Y%m%d-%H%M%S\")\n",
    "tensorboard_callback = tf.keras.callbacks.TensorBoard(log_dir=logdir)\n",
    "\n",
    "chkpt = ModelCheckpoint(\"model_weights.h5\", monitor='val_loss',verbose=1, save_best_only=True, save_weights_only=True, mode='min')\n",
    "\n",
    "early_stopping = EarlyStopping(monitor='val_accuracy', min_delta=0, patience=1, verbose=0, mode='max', baseline=None, restore_best_weights=False)\n",
    "\n",
    "callbacks = [PlotLossesCallback(), chkpt, early_stopping,tensorboard_callback]\n",
    "\n",
    "\n",
    "history = model.fit(\n",
    "    x=x_train,\n",
    "    y=y_train,\n",
    "    validation_data=(x_test,y_test),\n",
    "    batch_size=32, \n",
    "    epochs=50,\n",
    "    callbacks=callbacks,\n",
    "    verbose=1\n",
    "    \n",
    ")"
   ]
  },
  {
   "cell_type": "code",
   "execution_count": 26,
   "metadata": {},
   "outputs": [],
   "source": [
    "#tensorboard_callback = tf.keras.callbacks.TensorBoard(log_dir=log_dir, histogram_freq=1)"
   ]
  },
  {
   "cell_type": "code",
   "execution_count": 52,
   "metadata": {},
   "outputs": [
    {
     "name": "stdout",
     "output_type": "stream",
     "text": [
      "INFO:tensorflow:Assets written to: models/final1.tf/assets\n"
     ]
    },
    {
     "name": "stderr",
     "output_type": "stream",
     "text": [
      "INFO:tensorflow:Assets written to: models/final1.tf/assets\n"
     ]
    }
   ],
   "source": [
    "dirs = os.listdir()\n",
    "if 'models' not in dirs:\n",
    "    os.makedirs('models')\n",
    "    \n",
    "model.save(f'models/final1.tf', save_format='tf')"
   ]
  },
  {
   "cell_type": "code",
   "execution_count": 28,
   "metadata": {},
   "outputs": [],
   "source": [
    "# %load_ext tensorboard\n",
    "# %tensorboard --logdir logs"
   ]
  },
  {
   "cell_type": "code",
   "execution_count": 53,
   "metadata": {},
   "outputs": [
    {
     "name": "stdout",
     "output_type": "stream",
     "text": [
      "Evaluate on test data\n",
      "1/1 [==============================] - 0s 25ms/step - loss: 0.5364 - accuracy: 0.9210\n",
      "test loss: 0.5363697409629822 \n",
      "test accuracy: 0.9209523797035217 \n"
     ]
    }
   ],
   "source": [
    "print(\"Evaluate on test data\")\n",
    "results = model.evaluate(x_test, y_test, batch_size=128)\n",
    "print(\"test loss: {} \".format(results[0]))\n",
    "print(\"test accuracy: {} \".format(results[1]))"
   ]
  },
  {
   "cell_type": "code",
   "execution_count": 54,
   "metadata": {},
   "outputs": [
    {
     "name": "stdout",
     "output_type": "stream",
     "text": [
      "82\n",
      "This is sentence: 44\n",
      "1/1 [==============================] - 0s 159ms/step\n",
      "Word           True                          \t Pred\n",
      "\n",
      "------------------------------\n",
      "[5 4 0 2 2 2 5 4 2 2 2 2 2 2 2 2 2 2 2 2 2 2 2 2 2 2 2 2 2 2 2 2 2 2 2 2 2\n",
      " 2 2 2 2 2 2 2 2 2 2 2 2 2]\n",
      "[61  2  2  2  2  2  2  2  2  2  2  2  2  2  2  2  2  2  2  2  2  2  2  2\n",
      "  2  2  2  2  2  2  2  2  2  2  2  2  2  2  2  2  2  2  2  2  2  2  2  2\n",
      "  2  2]\n"
     ]
    },
    {
     "ename": "IndexError",
     "evalue": "list index out of range",
     "output_type": "error",
     "traceback": [
      "\u001b[0;31m---------------------------------------------------------------------------\u001b[0m",
      "\u001b[0;31mIndexError\u001b[0m                                Traceback (most recent call last)",
      "Cell \u001b[0;32mIn[54], line 17\u001b[0m\n\u001b[1;32m     13\u001b[0m \u001b[39mprint\u001b[39m(p[\u001b[39m0\u001b[39m])\n\u001b[1;32m     14\u001b[0m \u001b[39m#print(words[w-1])\u001b[39;00m\n\u001b[1;32m     15\u001b[0m \u001b[39m#print(tags[true])\u001b[39;00m\n\u001b[1;32m     16\u001b[0m \u001b[39m#print(tags[pred])\u001b[39;00m\n\u001b[0;32m---> 17\u001b[0m \u001b[39mprint\u001b[39m(\u001b[39m\"\u001b[39m\u001b[39m{:15}\u001b[39;00m\u001b[39m\\t\u001b[39;00m\u001b[39m{}\u001b[39;00m\u001b[39m\"\u001b[39m\u001b[39m.\u001b[39mformat(words[w\u001b[39m-\u001b[39m\u001b[39m1\u001b[39m], tags[true]), tags[pred])\n",
      "\u001b[0;31mIndexError\u001b[0m: list index out of range"
     ]
    }
   ],
   "source": [
    "# reclassification\n",
    "\n",
    "i = np.random.randint(0, x_train.shape[0])\n",
    "print(x_train.shape[0])\n",
    "print(\"This is sentence:\",i)\n",
    "p = model.predict(np.array([x_train[i]]))\n",
    "p = np.argmax(p, axis=-1)\n",
    "\n",
    "print(\"{:15}{:30}\\t {}\\n\".format(\"Word\", \"True\", \"Pred\"))\n",
    "print(\"-\" *30)\n",
    "for w, true, pred in zip(x_train[i], y_train[i], p[0]):\n",
    "    print(y_train[i])\n",
    "    print(p[0])\n",
    "    #print(words[w-1])\n",
    "    #print(tags[true])\n",
    "    #print(tags[pred])\n",
    "    print(\"{:15}\\t{}\".format(words[w-1], tags[true]), tags[pred])"
   ]
  },
  {
   "cell_type": "code",
   "execution_count": null,
   "metadata": {},
   "outputs": [],
   "source": [
    "# solution for the error: must train with more data (label index 61 not exists)"
   ]
  },
  {
   "cell_type": "code",
   "execution_count": null,
   "metadata": {},
   "outputs": [],
   "source": [
    "# for reuse the trained model\n",
    "# model_loaded = load_model('models/final1.tf')"
   ]
  },
  {
   "cell_type": "code",
   "execution_count": 55,
   "metadata": {},
   "outputs": [
    {
     "name": "stdout",
     "output_type": "stream",
     "text": [
      "This is sentence: 15\n",
      "1/1 [==============================] - 0s 15ms/step\n",
      "Word           True \t Pred\n",
      "\n",
      "------------------------------\n",
      "Musiker        ISA\tENTITÄT\n",
      "sind           o\to\n",
      "besondere      o\to\n",
      "VereinsmitgliederENTITÄT\to\n",
      ",              o\to\n",
      "die            o\to\n",
      "Instrumente    ENTITÄT\to\n",
      "spielen        BEZIEHUNG\to\n",
      "können        o\to\n",
      ".              o\to\n",
      "Filialnamen    o\to\n",
      "Filialnamen    o\to\n",
      "Filialnamen    o\to\n",
      "Filialnamen    o\to\n",
      "Filialnamen    o\to\n",
      "Filialnamen    o\to\n",
      "Filialnamen    o\to\n",
      "Filialnamen    o\to\n",
      "Filialnamen    o\to\n",
      "Filialnamen    o\to\n",
      "Filialnamen    o\to\n",
      "Filialnamen    o\to\n",
      "Filialnamen    o\to\n",
      "Filialnamen    o\to\n",
      "Filialnamen    o\to\n",
      "Filialnamen    o\to\n",
      "Filialnamen    o\to\n",
      "Filialnamen    o\to\n",
      "Filialnamen    o\to\n",
      "Filialnamen    o\to\n",
      "Filialnamen    o\to\n",
      "Filialnamen    o\to\n",
      "Filialnamen    o\to\n",
      "Filialnamen    o\to\n",
      "Filialnamen    o\to\n",
      "Filialnamen    o\to\n",
      "Filialnamen    o\to\n",
      "Filialnamen    o\to\n",
      "Filialnamen    o\to\n",
      "Filialnamen    o\to\n",
      "Filialnamen    o\to\n",
      "Filialnamen    o\to\n",
      "Filialnamen    o\to\n",
      "Filialnamen    o\to\n",
      "Filialnamen    o\to\n",
      "Filialnamen    o\to\n",
      "Filialnamen    o\to\n",
      "Filialnamen    o\to\n",
      "Filialnamen    o\to\n",
      "Filialnamen    o\to\n"
     ]
    }
   ],
   "source": [
    "# test with test data (no reclassification)\n",
    "\n",
    "i = np.random.randint(0, x_test.shape[0])\n",
    "print(\"This is sentence:\",i)\n",
    "p = model.predict(np.array([x_test[i]]))\n",
    "p = np.argmax(p, axis=-1)\n",
    "\n",
    "print(\"{:15}{:5}\\t {}\\n\".format(\"Word\", \"True\", \"Pred\"))\n",
    "print(\"-\" *30)\n",
    "for w, true, pred in zip(x_test[i], y_test[i], p[0]):\n",
    "    print(\"{:15}{}\\t{}\".format(words[w-1], tags[true], tags[pred]))"
   ]
  }
 ],
 "metadata": {
  "kernelspec": {
   "display_name": "projektarbeit",
   "language": "python",
   "name": "python3"
  },
  "language_info": {
   "codemirror_mode": {
    "name": "ipython",
    "version": 3
   },
   "file_extension": ".py",
   "mimetype": "text/x-python",
   "name": "python",
   "nbconvert_exporter": "python",
   "pygments_lexer": "ipython3",
   "version": "3.10.9"
  },
  "orig_nbformat": 4,
  "vscode": {
   "interpreter": {
    "hash": "e04f4a2975c158b801cf0c8285a3912c4258c980c6fe7587b5ae35986cc1df98"
   }
  }
 },
 "nbformat": 4,
 "nbformat_minor": 2
}
